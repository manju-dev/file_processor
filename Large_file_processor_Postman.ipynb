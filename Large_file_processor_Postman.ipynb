{
  "nbformat": 4,
  "nbformat_minor": 0,
  "metadata": {
    "colab": {
      "name": "Large file processor - Postman.ipynb",
      "provenance": [],
      "collapsed_sections": [
        "nOeCnzifSlEb"
      ],
      "toc_visible": true
    },
    "kernelspec": {
      "name": "python3",
      "display_name": "Python 3"
    },
    "language_info": {
      "name": "python"
    }
  },
  "cells": [
    {
      "cell_type": "markdown",
      "metadata": {
        "id": "8fbFEhKCS-5a"
      },
      "source": [
        "# Large file processor\n",
        "\n",
        "Skip to Usage section to see the worked session.\n",
        "\n",
        "Note: If you see Database is locked error, it is because of the lightweight nature of SQLite which shouldn't be a problem when using a other DBs."
      ]
    },
    {
      "cell_type": "markdown",
      "metadata": {
        "id": "nOeCnzifSlEb"
      },
      "source": [
        "## Setup"
      ]
    },
    {
      "cell_type": "code",
      "metadata": {
        "colab": {
          "base_uri": "https://localhost:8080/"
        },
        "id": "8gPR_e_sRwNn",
        "outputId": "8ef2280b-bb9f-49dc-9ff1-6f8b952161f2"
      },
      "source": [
        "!pip list | grep 'pandas\\|sqllite3\\|threading'"
      ],
      "execution_count": 1,
      "outputs": [
        {
          "output_type": "stream",
          "text": [
            "pandas                        1.1.5         \n",
            "pandas-datareader             0.9.0         \n",
            "pandas-gbq                    0.13.3        \n",
            "pandas-profiling              1.4.1         \n",
            "sklearn-pandas                1.8.0         \n"
          ],
          "name": "stdout"
        }
      ]
    },
    {
      "cell_type": "code",
      "metadata": {
        "colab": {
          "base_uri": "https://localhost:8080/"
        },
        "id": "OHWTMcIkR98p",
        "outputId": "26c71e8f-8ade-45f8-950a-81017956ab0e"
      },
      "source": [
        "# Data in Google Drive\n",
        "!ls 'drive/MyDrive/Postman'"
      ],
      "execution_count": 2,
      "outputs": [
        {
          "output_type": "stream",
          "text": [
            "'Large file processing - Assignment.docx'   products.csv.gz\n"
          ],
          "name": "stdout"
        }
      ]
    },
    {
      "cell_type": "code",
      "metadata": {
        "id": "U1hDd44jSKeE"
      },
      "source": [
        "import pandas as pd\n",
        "import sqlite3\n",
        "import threading\n",
        "\n",
        "class DataProcessor:\n",
        "    def __init__(self, db_name='defaultDB.sqlite3'):\n",
        "        \"\"\"\n",
        "        Creates a new db or connects to an existing one in working directory.\n",
        "        \n",
        "        INPUT: \n",
        "        db_name: String for a db name\n",
        "        \n",
        "        RETURN: None\n",
        "        \"\"\"\n",
        "        self.db_name = db_name\n",
        "\n",
        "        with sqlite3.connect(self.db_name) as db:\n",
        "            cur = db.cursor()\n",
        "            \n",
        "            cur.execute(\"CREATE TABLE IF NOT EXISTS products (name, sku, description)\")\n",
        "            cur.execute(\"CREATE INDEX IF NOT EXISTS sku_idx ON products(sku)\")\n",
        "            \n",
        "            cur.execute(\"SELECT COUNT(1) FROM products\")\n",
        "            print('Connected to {name} with {records} records'.format(name=self.db_name, records=cur.fetchone()[0]))\n",
        "    \n",
        "    def get_record_count(self):\n",
        "        \"\"\"\n",
        "        Prints the rowcount of products db.\n",
        "        \n",
        "        INPUT: None\n",
        "        RETURN: None\n",
        "        \"\"\"\n",
        "        with sqlite3.connect(self.db_name) as db:\n",
        "            cur = db.cursor()\n",
        "            cur.execute(\"SELECT COUNT(1) FROM products\")\n",
        "            print('Products table has {records} records'.format(records=cur.fetchone()[0]))\n",
        "    \n",
        "    def load_data(self, path_to_file, chunksize=100000, block=False):\n",
        "        \"\"\"\n",
        "        Non-blcoking parallel code to read a csv file and insert into a db.\n",
        "        Works with compressed CSV as well.\n",
        "        \n",
        "        INPUT: \n",
        "        path_to_file: String path for a csv file.\n",
        "        chunksize: Integer for the number records per batch.\n",
        "        block: Bool to control how the code runs.\n",
        "        \n",
        "        RETURN: None\n",
        "        \"\"\"\n",
        "        def write_to_db(df):\n",
        "            with sqlite3.connect(self.db_name, timeout=40) as db:\n",
        "                df.to_sql(\"products\", db, if_exists=\"append\", index=False)\n",
        "        \n",
        "        threads = []\n",
        "        \n",
        "        # read csv file in chunks and assign to threads for db write\n",
        "        for df in pd.read_csv(path_to_file, chunksize=chunksize):\n",
        "            thread = threading.Thread(target=write_to_db, args=[df])\n",
        "            thread.start()\n",
        "            threads.append(thread)\n",
        "\n",
        "        # TO-DO: read about join\n",
        "        if block:\n",
        "            for thread in threads:\n",
        "                thread.join()\n",
        "            print('All tasks are done.')\n",
        "        else:\n",
        "            print('Tasks have been scheduled.')\n",
        "    \n",
        "    def update_products_by_sku(self, sku_key, record, all_occurances=False):\n",
        "        \"\"\"\n",
        "        Update records based sku value. If there is key conflict, user can chose how to resolve.\n",
        "        \n",
        "        INPUT: \n",
        "        sku_key: String key for a sku column.\n",
        "        record: A tuple with name, sku and description values.\n",
        "        all_occurances: Bool to control how to resolve key conflict. If True, all records with given sku will be overwritten.\n",
        "        \n",
        "        RETURN: None\n",
        "        \"\"\"\n",
        "        assert type(record) == tuple, 'records should be a tuple'\n",
        "        \n",
        "        query = \"\"\"\n",
        "                UPDATE products\n",
        "                SET name=(?), sku=(?), description=(?)\n",
        "                WHERE sku = (?)\n",
        "                \"\"\"\n",
        "        with sqlite3.connect(self.db_name) as db:\n",
        "            num_records = db.execute(\"SELECT COUNT(1) FROM products WHERE sku = (?)\", [sku_key]).fetchone()[0]\n",
        "            \n",
        "            if num_records==1 or all_occurances==True:\n",
        "                db.execute(query, (record[0], record[1], record[2], sku_key))\n",
        "                print('Total changes:', db.total_changes)\n",
        "            else:\n",
        "                print('Key Conflict: This sku has {0} records. Set all_occurances=True or use update_products_by_rowid method'.format(num_records))\n",
        "\n",
        "    def get_records_by_sku(self, sku_list):\n",
        "        \"\"\"\n",
        "        Return a np.array with matching sku values from the given list.\n",
        "        \n",
        "        INPUT: \n",
        "        sku_list: list of strings\n",
        "        \n",
        "        RETURN: np.array with product records\n",
        "        \"\"\"\n",
        "        assert type(sku_list) == list, 'Input should be a list'\n",
        "        \n",
        "        sku_values = str(tuple([key for key in sku_list])).replace(',)', ')')\n",
        "        query = \"SELECT rowid, * FROM products WHERE sku IN {0}\".format(sku_values)\n",
        "        # print(query)\n",
        "        \n",
        "        with sqlite3.connect(self.db_name) as db:\n",
        "            # return db.execute(query).fetchall()\n",
        "            return pd.read_sql(query, db).values\n",
        "    \n",
        "    def update_products_by_rowid(self, records):\n",
        "        \"\"\"\n",
        "        Update records based on rowid.\n",
        "        \n",
        "        INPUT: \n",
        "        sku_list: list of collection of records (rowid, name, sku, description)\n",
        "        \n",
        "        RETURN: Prints the total changes to records.\n",
        "        \"\"\"\n",
        "        # assert type(records) == list and type(records[0]) == tuple, 'records should be a list of tuples'\n",
        "\n",
        "        query = \"\"\"\n",
        "                UPDATE products\n",
        "                SET name=(?), sku=(?), description=(?)\n",
        "                WHERE rowid=(?)\n",
        "                \"\"\"\n",
        "        def row_generator():\n",
        "            for row in records:\n",
        "                yield (row[1], row[2], row[3], row[0])\n",
        "        \n",
        "        with sqlite3.connect(self.db_name) as db:\n",
        "            db.executemany(query, row_generator())\n",
        "            print('Total changes:', db.total_changes)\n",
        "    \n",
        "    def get_aggregate_table(self, LIMIT=-1):\n",
        "        \"\"\"\n",
        "        Returns a table with unique names and row count\n",
        "        \n",
        "        INPUT: \n",
        "        LIMIT: Integer to get the desired number of records. Defaultis to return the whole set.\n",
        "        \n",
        "        RETURN: Dataframe with two columns\n",
        "        \"\"\"\n",
        "        query = \"\"\"\n",
        "                SELECT name, COUNT(1) as 'no. of products'\n",
        "                FROM products\n",
        "                GROUP BY name\n",
        "                LIMIT {0}\"\"\".format(LIMIT)\n",
        "        with sqlite3.connect(self.db_name) as db:\n",
        "            return pd.read_sql(query, db)"
      ],
      "execution_count": 3,
      "outputs": []
    },
    {
      "cell_type": "markdown",
      "metadata": {
        "id": "h18UhxV1SqG_"
      },
      "source": [
        "## Usage"
      ]
    },
    {
      "cell_type": "markdown",
      "metadata": {
        "id": "wppe_OH8X3eA"
      },
      "source": [
        "### Init"
      ]
    },
    {
      "cell_type": "code",
      "metadata": {
        "colab": {
          "base_uri": "https://localhost:8080/"
        },
        "id": "rprtyPexSipD",
        "outputId": "4a843514-2c16-4bae-c82e-115947c6599e"
      },
      "source": [
        "# Initiate and conect with the db\n",
        "app = DataProcessor('test.db')"
      ],
      "execution_count": 6,
      "outputs": [
        {
          "output_type": "stream",
          "text": [
            "Connected to test.db with 0 records\n"
          ],
          "name": "stdout"
        }
      ]
    },
    {
      "cell_type": "code",
      "metadata": {
        "colab": {
          "base_uri": "https://localhost:8080/"
        },
        "id": "mSccXoVxTQXn",
        "outputId": "bf9acdee-a8e1-41db-f671-8dc439657092"
      },
      "source": [
        "app.get_record_count()"
      ],
      "execution_count": 7,
      "outputs": [
        {
          "output_type": "stream",
          "text": [
            "Products table has 0 records\n"
          ],
          "name": "stdout"
        }
      ]
    },
    {
      "cell_type": "markdown",
      "metadata": {
        "id": "PtLDOI1cX7lU"
      },
      "source": [
        "### Consume the File"
      ]
    },
    {
      "cell_type": "code",
      "metadata": {
        "colab": {
          "base_uri": "https://localhost:8080/"
        },
        "id": "knyXSWc1Tbyu",
        "outputId": "dd7e3364-5bb3-4653-f4af-61476373b412"
      },
      "source": [
        "# load data\n",
        "app.load_data('drive/MyDrive/Postman/products.csv.gz')"
      ],
      "execution_count": 8,
      "outputs": [
        {
          "output_type": "stream",
          "text": [
            "Tasks have been scheduled.\n"
          ],
          "name": "stdout"
        }
      ]
    },
    {
      "cell_type": "code",
      "metadata": {
        "colab": {
          "base_uri": "https://localhost:8080/"
        },
        "id": "_hF1c3vQUAnA",
        "outputId": "71d5ad17-7438-4683-a61c-d31dc8b55bc0"
      },
      "source": [
        "# since code is non-blcking, we see onlt 200000 for now\n",
        "app.get_record_count()"
      ],
      "execution_count": 9,
      "outputs": [
        {
          "output_type": "stream",
          "text": [
            "Products table has 200000 records\n"
          ],
          "name": "stdout"
        }
      ]
    },
    {
      "cell_type": "code",
      "metadata": {
        "colab": {
          "base_uri": "https://localhost:8080/"
        },
        "id": "f7JWBKGuUD6k",
        "outputId": "d4f5358c-8daa-4359-d1d9-4f6f58f71585"
      },
      "source": [
        "# load data again with block=True, wait till all records are done.\n",
        "app.load_data('drive/MyDrive/Postman/products.csv.gz', block=True)"
      ],
      "execution_count": 10,
      "outputs": [
        {
          "output_type": "stream",
          "text": [
            "All tasks are done.\n"
          ],
          "name": "stdout"
        }
      ]
    },
    {
      "cell_type": "code",
      "metadata": {
        "colab": {
          "base_uri": "https://localhost:8080/"
        },
        "id": "ykJP2HwxUO-n",
        "outputId": "e6d7c74a-2b9d-4e82-d290-282ea121422d"
      },
      "source": [
        "# ingested file two times so all 2 * 500000 = 10000000 records\n",
        "app.get_record_count()"
      ],
      "execution_count": 11,
      "outputs": [
        {
          "output_type": "stream",
          "text": [
            "Products table has 1000000 records\n"
          ],
          "name": "stdout"
        }
      ]
    },
    {
      "cell_type": "code",
      "metadata": {
        "colab": {
          "base_uri": "https://localhost:8080/",
          "height": 424
        },
        "id": "qG4UMDUsUQbL",
        "outputId": "80814eb6-8dd0-4c3c-d7f5-7bebb3a36c39"
      },
      "source": [
        "# Get records with sku, pandas DataFrame used for diplay convinience. \n",
        "pd.DataFrame(app.get_records_by_sku(['step-onto', 'professional']))"
      ],
      "execution_count": 12,
      "outputs": [
        {
          "output_type": "execute_result",
          "data": {
            "text/html": [
              "<div>\n",
              "<style scoped>\n",
              "    .dataframe tbody tr th:only-of-type {\n",
              "        vertical-align: middle;\n",
              "    }\n",
              "\n",
              "    .dataframe tbody tr th {\n",
              "        vertical-align: top;\n",
              "    }\n",
              "\n",
              "    .dataframe thead th {\n",
              "        text-align: right;\n",
              "    }\n",
              "</style>\n",
              "<table border=\"1\" class=\"dataframe\">\n",
              "  <thead>\n",
              "    <tr style=\"text-align: right;\">\n",
              "      <th></th>\n",
              "      <th>0</th>\n",
              "      <th>1</th>\n",
              "      <th>2</th>\n",
              "      <th>3</th>\n",
              "    </tr>\n",
              "  </thead>\n",
              "  <tbody>\n",
              "    <tr>\n",
              "      <th>0</th>\n",
              "      <td>75</td>\n",
              "      <td>Bradley Hernandez</td>\n",
              "      <td>professional</td>\n",
              "      <td>General Republican white customer author. Dog ...</td>\n",
              "    </tr>\n",
              "    <tr>\n",
              "      <th>1</th>\n",
              "      <td>2765</td>\n",
              "      <td>Jeffrey Weeks</td>\n",
              "      <td>professional</td>\n",
              "      <td>Wall toward compare serious. Foreign one diffi...</td>\n",
              "    </tr>\n",
              "    <tr>\n",
              "      <th>2</th>\n",
              "      <td>4974</td>\n",
              "      <td>David Decker</td>\n",
              "      <td>professional</td>\n",
              "      <td>Talk full environment short your. Site campaig...</td>\n",
              "    </tr>\n",
              "    <tr>\n",
              "      <th>3</th>\n",
              "      <td>5246</td>\n",
              "      <td>Jacqueline Raymond</td>\n",
              "      <td>professional</td>\n",
              "      <td>Nice much each partner leg property. Language ...</td>\n",
              "    </tr>\n",
              "    <tr>\n",
              "      <th>4</th>\n",
              "      <td>8198</td>\n",
              "      <td>Anthony Washington</td>\n",
              "      <td>professional</td>\n",
              "      <td>Serious why customer people. Four find purpose...</td>\n",
              "    </tr>\n",
              "    <tr>\n",
              "      <th>...</th>\n",
              "      <td>...</td>\n",
              "      <td>...</td>\n",
              "      <td>...</td>\n",
              "      <td>...</td>\n",
              "    </tr>\n",
              "    <tr>\n",
              "      <th>347</th>\n",
              "      <td>982150</td>\n",
              "      <td>Dennis Taylor</td>\n",
              "      <td>professional</td>\n",
              "      <td>Very assume rich live. Or cost couple nature.\\...</td>\n",
              "    </tr>\n",
              "    <tr>\n",
              "      <th>348</th>\n",
              "      <td>984217</td>\n",
              "      <td>Debra Jones</td>\n",
              "      <td>professional</td>\n",
              "      <td>Start bag wind pull strong. But between along ...</td>\n",
              "    </tr>\n",
              "    <tr>\n",
              "      <th>349</th>\n",
              "      <td>986071</td>\n",
              "      <td>Shelley Clark</td>\n",
              "      <td>professional</td>\n",
              "      <td>Note the fast. Enough owner part student beaut...</td>\n",
              "    </tr>\n",
              "    <tr>\n",
              "      <th>350</th>\n",
              "      <td>3</td>\n",
              "      <td>Theresa Taylor</td>\n",
              "      <td>step-onto</td>\n",
              "      <td>Choice should lead budget task. Author best me...</td>\n",
              "    </tr>\n",
              "    <tr>\n",
              "      <th>351</th>\n",
              "      <td>500003</td>\n",
              "      <td>Theresa Taylor</td>\n",
              "      <td>step-onto</td>\n",
              "      <td>Choice should lead budget task. Author best me...</td>\n",
              "    </tr>\n",
              "  </tbody>\n",
              "</table>\n",
              "<p>352 rows × 4 columns</p>\n",
              "</div>"
            ],
            "text/plain": [
              "          0  ...                                                  3\n",
              "0        75  ...  General Republican white customer author. Dog ...\n",
              "1      2765  ...  Wall toward compare serious. Foreign one diffi...\n",
              "2      4974  ...  Talk full environment short your. Site campaig...\n",
              "3      5246  ...  Nice much each partner leg property. Language ...\n",
              "4      8198  ...  Serious why customer people. Four find purpose...\n",
              "..      ...  ...                                                ...\n",
              "347  982150  ...  Very assume rich live. Or cost couple nature.\\...\n",
              "348  984217  ...  Start bag wind pull strong. But between along ...\n",
              "349  986071  ...  Note the fast. Enough owner part student beaut...\n",
              "350       3  ...  Choice should lead budget task. Author best me...\n",
              "351  500003  ...  Choice should lead budget task. Author best me...\n",
              "\n",
              "[352 rows x 4 columns]"
            ]
          },
          "metadata": {
            "tags": []
          },
          "execution_count": 12
        }
      ]
    },
    {
      "cell_type": "markdown",
      "metadata": {
        "id": "kb6S3FkiXwHB"
      },
      "source": [
        "### Update with sku"
      ]
    },
    {
      "cell_type": "code",
      "metadata": {
        "colab": {
          "base_uri": "https://localhost:8080/",
          "height": 112
        },
        "id": "2UBrXnNmUzXs",
        "outputId": "1da8460a-cb0e-4e16-f3f8-af2694eecbc6"
      },
      "source": [
        "# because we ingested the file twice, there exists two records for this sku\n",
        "pd.DataFrame(app.get_records_by_sku(['step-onto']))"
      ],
      "execution_count": 13,
      "outputs": [
        {
          "output_type": "execute_result",
          "data": {
            "text/html": [
              "<div>\n",
              "<style scoped>\n",
              "    .dataframe tbody tr th:only-of-type {\n",
              "        vertical-align: middle;\n",
              "    }\n",
              "\n",
              "    .dataframe tbody tr th {\n",
              "        vertical-align: top;\n",
              "    }\n",
              "\n",
              "    .dataframe thead th {\n",
              "        text-align: right;\n",
              "    }\n",
              "</style>\n",
              "<table border=\"1\" class=\"dataframe\">\n",
              "  <thead>\n",
              "    <tr style=\"text-align: right;\">\n",
              "      <th></th>\n",
              "      <th>0</th>\n",
              "      <th>1</th>\n",
              "      <th>2</th>\n",
              "      <th>3</th>\n",
              "    </tr>\n",
              "  </thead>\n",
              "  <tbody>\n",
              "    <tr>\n",
              "      <th>0</th>\n",
              "      <td>3</td>\n",
              "      <td>Theresa Taylor</td>\n",
              "      <td>step-onto</td>\n",
              "      <td>Choice should lead budget task. Author best me...</td>\n",
              "    </tr>\n",
              "    <tr>\n",
              "      <th>1</th>\n",
              "      <td>500003</td>\n",
              "      <td>Theresa Taylor</td>\n",
              "      <td>step-onto</td>\n",
              "      <td>Choice should lead budget task. Author best me...</td>\n",
              "    </tr>\n",
              "  </tbody>\n",
              "</table>\n",
              "</div>"
            ],
            "text/plain": [
              "        0  ...                                                  3\n",
              "0       3  ...  Choice should lead budget task. Author best me...\n",
              "1  500003  ...  Choice should lead budget task. Author best me...\n",
              "\n",
              "[2 rows x 4 columns]"
            ]
          },
          "metadata": {
            "tags": []
          },
          "execution_count": 13
        }
      ]
    },
    {
      "cell_type": "code",
      "metadata": {
        "colab": {
          "base_uri": "https://localhost:8080/"
        },
        "id": "OUCbygtJWl90",
        "outputId": "833b64c0-9314-45d1-cdb7-9abc2344d6ad"
      },
      "source": [
        "# Because there are two records for a key, we can chose to overwrite both records or update based on rowid\n",
        "app.update_products_by_sku('step-onto', ('Theresa Taylor 2', 'step-onto', 'Choice should lead budget task.'))"
      ],
      "execution_count": 14,
      "outputs": [
        {
          "output_type": "stream",
          "text": [
            "Key Conflict: This sku has 2 records. Set all_occurances=True or use update_products_by_rowid method\n"
          ],
          "name": "stdout"
        }
      ]
    },
    {
      "cell_type": "code",
      "metadata": {
        "colab": {
          "base_uri": "https://localhost:8080/"
        },
        "id": "58E_wg8gW6OO",
        "outputId": "6970f7cd-dbe4-418a-da52-b08a4b48b45a"
      },
      "source": [
        "# set all_occurances=True to update all\n",
        "app.update_products_by_sku('step-onto', ('Theresa Taylor 2', 'step-onto', 'Choice should lead budget task.'), all_occurances=True)"
      ],
      "execution_count": 15,
      "outputs": [
        {
          "output_type": "stream",
          "text": [
            "Total changes: 2\n"
          ],
          "name": "stdout"
        }
      ]
    },
    {
      "cell_type": "code",
      "metadata": {
        "colab": {
          "base_uri": "https://localhost:8080/",
          "height": 112
        },
        "id": "6Lp7BPILW8uo",
        "outputId": "5e50708e-44d4-403f-d97f-9226db47a6cd"
      },
      "source": [
        "pd.DataFrame(app.get_records_by_sku(['step-onto']))"
      ],
      "execution_count": 16,
      "outputs": [
        {
          "output_type": "execute_result",
          "data": {
            "text/html": [
              "<div>\n",
              "<style scoped>\n",
              "    .dataframe tbody tr th:only-of-type {\n",
              "        vertical-align: middle;\n",
              "    }\n",
              "\n",
              "    .dataframe tbody tr th {\n",
              "        vertical-align: top;\n",
              "    }\n",
              "\n",
              "    .dataframe thead th {\n",
              "        text-align: right;\n",
              "    }\n",
              "</style>\n",
              "<table border=\"1\" class=\"dataframe\">\n",
              "  <thead>\n",
              "    <tr style=\"text-align: right;\">\n",
              "      <th></th>\n",
              "      <th>0</th>\n",
              "      <th>1</th>\n",
              "      <th>2</th>\n",
              "      <th>3</th>\n",
              "    </tr>\n",
              "  </thead>\n",
              "  <tbody>\n",
              "    <tr>\n",
              "      <th>0</th>\n",
              "      <td>3</td>\n",
              "      <td>Theresa Taylor 2</td>\n",
              "      <td>step-onto</td>\n",
              "      <td>Choice should lead budget task.</td>\n",
              "    </tr>\n",
              "    <tr>\n",
              "      <th>1</th>\n",
              "      <td>500003</td>\n",
              "      <td>Theresa Taylor 2</td>\n",
              "      <td>step-onto</td>\n",
              "      <td>Choice should lead budget task.</td>\n",
              "    </tr>\n",
              "  </tbody>\n",
              "</table>\n",
              "</div>"
            ],
            "text/plain": [
              "        0                 1          2                                3\n",
              "0       3  Theresa Taylor 2  step-onto  Choice should lead budget task.\n",
              "1  500003  Theresa Taylor 2  step-onto  Choice should lead budget task."
            ]
          },
          "metadata": {
            "tags": []
          },
          "execution_count": 16
        }
      ]
    },
    {
      "cell_type": "markdown",
      "metadata": {
        "id": "4-Bm0fYzXpgI"
      },
      "source": [
        "### Update with rowid"
      ]
    },
    {
      "cell_type": "code",
      "metadata": {
        "colab": {
          "base_uri": "https://localhost:8080/",
          "height": 424
        },
        "id": "Wo6HWXgOYdAN",
        "outputId": "c4402112-29c8-4de1-bb83-8ff159022b11"
      },
      "source": [
        "# there are a lot of file for just two sku\n",
        "pd.DataFrame(app.get_records_by_sku(['step-onto', 'professional']))"
      ],
      "execution_count": 17,
      "outputs": [
        {
          "output_type": "execute_result",
          "data": {
            "text/html": [
              "<div>\n",
              "<style scoped>\n",
              "    .dataframe tbody tr th:only-of-type {\n",
              "        vertical-align: middle;\n",
              "    }\n",
              "\n",
              "    .dataframe tbody tr th {\n",
              "        vertical-align: top;\n",
              "    }\n",
              "\n",
              "    .dataframe thead th {\n",
              "        text-align: right;\n",
              "    }\n",
              "</style>\n",
              "<table border=\"1\" class=\"dataframe\">\n",
              "  <thead>\n",
              "    <tr style=\"text-align: right;\">\n",
              "      <th></th>\n",
              "      <th>0</th>\n",
              "      <th>1</th>\n",
              "      <th>2</th>\n",
              "      <th>3</th>\n",
              "    </tr>\n",
              "  </thead>\n",
              "  <tbody>\n",
              "    <tr>\n",
              "      <th>0</th>\n",
              "      <td>75</td>\n",
              "      <td>Bradley Hernandez</td>\n",
              "      <td>professional</td>\n",
              "      <td>General Republican white customer author. Dog ...</td>\n",
              "    </tr>\n",
              "    <tr>\n",
              "      <th>1</th>\n",
              "      <td>2765</td>\n",
              "      <td>Jeffrey Weeks</td>\n",
              "      <td>professional</td>\n",
              "      <td>Wall toward compare serious. Foreign one diffi...</td>\n",
              "    </tr>\n",
              "    <tr>\n",
              "      <th>2</th>\n",
              "      <td>4974</td>\n",
              "      <td>David Decker</td>\n",
              "      <td>professional</td>\n",
              "      <td>Talk full environment short your. Site campaig...</td>\n",
              "    </tr>\n",
              "    <tr>\n",
              "      <th>3</th>\n",
              "      <td>5246</td>\n",
              "      <td>Jacqueline Raymond</td>\n",
              "      <td>professional</td>\n",
              "      <td>Nice much each partner leg property. Language ...</td>\n",
              "    </tr>\n",
              "    <tr>\n",
              "      <th>4</th>\n",
              "      <td>8198</td>\n",
              "      <td>Anthony Washington</td>\n",
              "      <td>professional</td>\n",
              "      <td>Serious why customer people. Four find purpose...</td>\n",
              "    </tr>\n",
              "    <tr>\n",
              "      <th>...</th>\n",
              "      <td>...</td>\n",
              "      <td>...</td>\n",
              "      <td>...</td>\n",
              "      <td>...</td>\n",
              "    </tr>\n",
              "    <tr>\n",
              "      <th>347</th>\n",
              "      <td>982150</td>\n",
              "      <td>Dennis Taylor</td>\n",
              "      <td>professional</td>\n",
              "      <td>Very assume rich live. Or cost couple nature.\\...</td>\n",
              "    </tr>\n",
              "    <tr>\n",
              "      <th>348</th>\n",
              "      <td>984217</td>\n",
              "      <td>Debra Jones</td>\n",
              "      <td>professional</td>\n",
              "      <td>Start bag wind pull strong. But between along ...</td>\n",
              "    </tr>\n",
              "    <tr>\n",
              "      <th>349</th>\n",
              "      <td>986071</td>\n",
              "      <td>Shelley Clark</td>\n",
              "      <td>professional</td>\n",
              "      <td>Note the fast. Enough owner part student beaut...</td>\n",
              "    </tr>\n",
              "    <tr>\n",
              "      <th>350</th>\n",
              "      <td>3</td>\n",
              "      <td>Theresa Taylor 2</td>\n",
              "      <td>step-onto</td>\n",
              "      <td>Choice should lead budget task.</td>\n",
              "    </tr>\n",
              "    <tr>\n",
              "      <th>351</th>\n",
              "      <td>500003</td>\n",
              "      <td>Theresa Taylor 2</td>\n",
              "      <td>step-onto</td>\n",
              "      <td>Choice should lead budget task.</td>\n",
              "    </tr>\n",
              "  </tbody>\n",
              "</table>\n",
              "<p>352 rows × 4 columns</p>\n",
              "</div>"
            ],
            "text/plain": [
              "          0  ...                                                  3\n",
              "0        75  ...  General Republican white customer author. Dog ...\n",
              "1      2765  ...  Wall toward compare serious. Foreign one diffi...\n",
              "2      4974  ...  Talk full environment short your. Site campaig...\n",
              "3      5246  ...  Nice much each partner leg property. Language ...\n",
              "4      8198  ...  Serious why customer people. Four find purpose...\n",
              "..      ...  ...                                                ...\n",
              "347  982150  ...  Very assume rich live. Or cost couple nature.\\...\n",
              "348  984217  ...  Start bag wind pull strong. But between along ...\n",
              "349  986071  ...  Note the fast. Enough owner part student beaut...\n",
              "350       3  ...                    Choice should lead budget task.\n",
              "351  500003  ...                    Choice should lead budget task.\n",
              "\n",
              "[352 rows x 4 columns]"
            ]
          },
          "metadata": {
            "tags": []
          },
          "execution_count": 17
        }
      ]
    },
    {
      "cell_type": "code",
      "metadata": {
        "id": "zeVgiBlYXmSN"
      },
      "source": [
        "# change the exported records in result set, here we change just one\n",
        "foo = app.get_records_by_sku(['step-onto', 'professional'])\n",
        "foo[0][1] = 'Bradley Test'"
      ],
      "execution_count": 18,
      "outputs": []
    },
    {
      "cell_type": "code",
      "metadata": {
        "colab": {
          "base_uri": "https://localhost:8080/"
        },
        "id": "asTjFDhaZAiT",
        "outputId": "4557a530-34fa-4873-c8e5-9f5e6a51412b"
      },
      "source": [
        "# Update based on rowid\n",
        "app.update_products_by_rowid([foo[0]])"
      ],
      "execution_count": 19,
      "outputs": [
        {
          "output_type": "stream",
          "text": [
            "Total changes: 1\n"
          ],
          "name": "stdout"
        }
      ]
    },
    {
      "cell_type": "code",
      "metadata": {
        "colab": {
          "base_uri": "https://localhost:8080/",
          "height": 424
        },
        "id": "g0wWLVDcZVRm",
        "outputId": "7847b092-138a-472a-a205-0cbad0362659"
      },
      "source": [
        "## Name has been changed to 'Bradley Test'\n",
        "pd.DataFrame(app.get_records_by_sku(['step-onto', 'professional']))"
      ],
      "execution_count": 20,
      "outputs": [
        {
          "output_type": "execute_result",
          "data": {
            "text/html": [
              "<div>\n",
              "<style scoped>\n",
              "    .dataframe tbody tr th:only-of-type {\n",
              "        vertical-align: middle;\n",
              "    }\n",
              "\n",
              "    .dataframe tbody tr th {\n",
              "        vertical-align: top;\n",
              "    }\n",
              "\n",
              "    .dataframe thead th {\n",
              "        text-align: right;\n",
              "    }\n",
              "</style>\n",
              "<table border=\"1\" class=\"dataframe\">\n",
              "  <thead>\n",
              "    <tr style=\"text-align: right;\">\n",
              "      <th></th>\n",
              "      <th>0</th>\n",
              "      <th>1</th>\n",
              "      <th>2</th>\n",
              "      <th>3</th>\n",
              "    </tr>\n",
              "  </thead>\n",
              "  <tbody>\n",
              "    <tr>\n",
              "      <th>0</th>\n",
              "      <td>75</td>\n",
              "      <td>Bradley Test</td>\n",
              "      <td>professional</td>\n",
              "      <td>General Republican white customer author. Dog ...</td>\n",
              "    </tr>\n",
              "    <tr>\n",
              "      <th>1</th>\n",
              "      <td>2765</td>\n",
              "      <td>Jeffrey Weeks</td>\n",
              "      <td>professional</td>\n",
              "      <td>Wall toward compare serious. Foreign one diffi...</td>\n",
              "    </tr>\n",
              "    <tr>\n",
              "      <th>2</th>\n",
              "      <td>4974</td>\n",
              "      <td>David Decker</td>\n",
              "      <td>professional</td>\n",
              "      <td>Talk full environment short your. Site campaig...</td>\n",
              "    </tr>\n",
              "    <tr>\n",
              "      <th>3</th>\n",
              "      <td>5246</td>\n",
              "      <td>Jacqueline Raymond</td>\n",
              "      <td>professional</td>\n",
              "      <td>Nice much each partner leg property. Language ...</td>\n",
              "    </tr>\n",
              "    <tr>\n",
              "      <th>4</th>\n",
              "      <td>8198</td>\n",
              "      <td>Anthony Washington</td>\n",
              "      <td>professional</td>\n",
              "      <td>Serious why customer people. Four find purpose...</td>\n",
              "    </tr>\n",
              "    <tr>\n",
              "      <th>...</th>\n",
              "      <td>...</td>\n",
              "      <td>...</td>\n",
              "      <td>...</td>\n",
              "      <td>...</td>\n",
              "    </tr>\n",
              "    <tr>\n",
              "      <th>347</th>\n",
              "      <td>982150</td>\n",
              "      <td>Dennis Taylor</td>\n",
              "      <td>professional</td>\n",
              "      <td>Very assume rich live. Or cost couple nature.\\...</td>\n",
              "    </tr>\n",
              "    <tr>\n",
              "      <th>348</th>\n",
              "      <td>984217</td>\n",
              "      <td>Debra Jones</td>\n",
              "      <td>professional</td>\n",
              "      <td>Start bag wind pull strong. But between along ...</td>\n",
              "    </tr>\n",
              "    <tr>\n",
              "      <th>349</th>\n",
              "      <td>986071</td>\n",
              "      <td>Shelley Clark</td>\n",
              "      <td>professional</td>\n",
              "      <td>Note the fast. Enough owner part student beaut...</td>\n",
              "    </tr>\n",
              "    <tr>\n",
              "      <th>350</th>\n",
              "      <td>3</td>\n",
              "      <td>Theresa Taylor 2</td>\n",
              "      <td>step-onto</td>\n",
              "      <td>Choice should lead budget task.</td>\n",
              "    </tr>\n",
              "    <tr>\n",
              "      <th>351</th>\n",
              "      <td>500003</td>\n",
              "      <td>Theresa Taylor 2</td>\n",
              "      <td>step-onto</td>\n",
              "      <td>Choice should lead budget task.</td>\n",
              "    </tr>\n",
              "  </tbody>\n",
              "</table>\n",
              "<p>352 rows × 4 columns</p>\n",
              "</div>"
            ],
            "text/plain": [
              "          0  ...                                                  3\n",
              "0        75  ...  General Republican white customer author. Dog ...\n",
              "1      2765  ...  Wall toward compare serious. Foreign one diffi...\n",
              "2      4974  ...  Talk full environment short your. Site campaig...\n",
              "3      5246  ...  Nice much each partner leg property. Language ...\n",
              "4      8198  ...  Serious why customer people. Four find purpose...\n",
              "..      ...  ...                                                ...\n",
              "347  982150  ...  Very assume rich live. Or cost couple nature.\\...\n",
              "348  984217  ...  Start bag wind pull strong. But between along ...\n",
              "349  986071  ...  Note the fast. Enough owner part student beaut...\n",
              "350       3  ...                    Choice should lead budget task.\n",
              "351  500003  ...                    Choice should lead budget task.\n",
              "\n",
              "[352 rows x 4 columns]"
            ]
          },
          "metadata": {
            "tags": []
          },
          "execution_count": 20
        }
      ]
    },
    {
      "cell_type": "code",
      "metadata": {
        "colab": {
          "base_uri": "https://localhost:8080/"
        },
        "id": "eH8auYoFZLNe",
        "outputId": "b787814f-c413-4833-e1d4-cf3fda3fe11d"
      },
      "source": [
        "# or edit many records and update together, no changes done here, just demo\n",
        "app.update_products_by_rowid(foo)"
      ],
      "execution_count": 21,
      "outputs": [
        {
          "output_type": "stream",
          "text": [
            "Total changes: 352\n"
          ],
          "name": "stdout"
        }
      ]
    },
    {
      "cell_type": "markdown",
      "metadata": {
        "id": "SdRJ40gQZzMB"
      },
      "source": [
        "### aggregated table"
      ]
    },
    {
      "cell_type": "code",
      "metadata": {
        "colab": {
          "base_uri": "https://localhost:8080/",
          "height": 206
        },
        "id": "sRf1lAevZp1D",
        "outputId": "66439aba-fcc3-477f-bc98-610e31bf6d89"
      },
      "source": [
        "# aggregate table is dynamically generated, here we ask fo just 5\n",
        "app.get_aggregate_table(5)"
      ],
      "execution_count": 22,
      "outputs": [
        {
          "output_type": "execute_result",
          "data": {
            "text/html": [
              "<div>\n",
              "<style scoped>\n",
              "    .dataframe tbody tr th:only-of-type {\n",
              "        vertical-align: middle;\n",
              "    }\n",
              "\n",
              "    .dataframe tbody tr th {\n",
              "        vertical-align: top;\n",
              "    }\n",
              "\n",
              "    .dataframe thead th {\n",
              "        text-align: right;\n",
              "    }\n",
              "</style>\n",
              "<table border=\"1\" class=\"dataframe\">\n",
              "  <thead>\n",
              "    <tr style=\"text-align: right;\">\n",
              "      <th></th>\n",
              "      <th>name</th>\n",
              "      <th>no. of products</th>\n",
              "    </tr>\n",
              "  </thead>\n",
              "  <tbody>\n",
              "    <tr>\n",
              "      <th>0</th>\n",
              "      <td>Aaron Abbott</td>\n",
              "      <td>2</td>\n",
              "    </tr>\n",
              "    <tr>\n",
              "      <th>1</th>\n",
              "      <td>Aaron Acevedo</td>\n",
              "      <td>2</td>\n",
              "    </tr>\n",
              "    <tr>\n",
              "      <th>2</th>\n",
              "      <td>Aaron Acosta</td>\n",
              "      <td>8</td>\n",
              "    </tr>\n",
              "    <tr>\n",
              "      <th>3</th>\n",
              "      <td>Aaron Adams</td>\n",
              "      <td>12</td>\n",
              "    </tr>\n",
              "    <tr>\n",
              "      <th>4</th>\n",
              "      <td>Aaron Aguilar</td>\n",
              "      <td>2</td>\n",
              "    </tr>\n",
              "  </tbody>\n",
              "</table>\n",
              "</div>"
            ],
            "text/plain": [
              "            name  no. of products\n",
              "0   Aaron Abbott                2\n",
              "1  Aaron Acevedo                2\n",
              "2   Aaron Acosta                8\n",
              "3    Aaron Adams               12\n",
              "4  Aaron Aguilar                2"
            ]
          },
          "metadata": {
            "tags": []
          },
          "execution_count": 22
        }
      ]
    },
    {
      "cell_type": "code",
      "metadata": {
        "colab": {
          "base_uri": "https://localhost:8080/",
          "height": 424
        },
        "id": "DWuubN8QZ_GK",
        "outputId": "7f02b802-a083-45fc-fa0a-1c13c0d6d4f4"
      },
      "source": [
        "# or don't pass anything, and we get all 222026 unique names and count\n",
        "app.get_aggregate_table()"
      ],
      "execution_count": 23,
      "outputs": [
        {
          "output_type": "execute_result",
          "data": {
            "text/html": [
              "<div>\n",
              "<style scoped>\n",
              "    .dataframe tbody tr th:only-of-type {\n",
              "        vertical-align: middle;\n",
              "    }\n",
              "\n",
              "    .dataframe tbody tr th {\n",
              "        vertical-align: top;\n",
              "    }\n",
              "\n",
              "    .dataframe thead th {\n",
              "        text-align: right;\n",
              "    }\n",
              "</style>\n",
              "<table border=\"1\" class=\"dataframe\">\n",
              "  <thead>\n",
              "    <tr style=\"text-align: right;\">\n",
              "      <th></th>\n",
              "      <th>name</th>\n",
              "      <th>no. of products</th>\n",
              "    </tr>\n",
              "  </thead>\n",
              "  <tbody>\n",
              "    <tr>\n",
              "      <th>0</th>\n",
              "      <td>Aaron Abbott</td>\n",
              "      <td>2</td>\n",
              "    </tr>\n",
              "    <tr>\n",
              "      <th>1</th>\n",
              "      <td>Aaron Acevedo</td>\n",
              "      <td>2</td>\n",
              "    </tr>\n",
              "    <tr>\n",
              "      <th>2</th>\n",
              "      <td>Aaron Acosta</td>\n",
              "      <td>8</td>\n",
              "    </tr>\n",
              "    <tr>\n",
              "      <th>3</th>\n",
              "      <td>Aaron Adams</td>\n",
              "      <td>12</td>\n",
              "    </tr>\n",
              "    <tr>\n",
              "      <th>4</th>\n",
              "      <td>Aaron Aguilar</td>\n",
              "      <td>2</td>\n",
              "    </tr>\n",
              "    <tr>\n",
              "      <th>...</th>\n",
              "      <td>...</td>\n",
              "      <td>...</td>\n",
              "    </tr>\n",
              "    <tr>\n",
              "      <th>222021</th>\n",
              "      <td>Zoe Williams</td>\n",
              "      <td>2</td>\n",
              "    </tr>\n",
              "    <tr>\n",
              "      <th>222022</th>\n",
              "      <td>Zoe Wilson</td>\n",
              "      <td>2</td>\n",
              "    </tr>\n",
              "    <tr>\n",
              "      <th>222023</th>\n",
              "      <td>Zoe Wright</td>\n",
              "      <td>2</td>\n",
              "    </tr>\n",
              "    <tr>\n",
              "      <th>222024</th>\n",
              "      <td>Zoe Young</td>\n",
              "      <td>2</td>\n",
              "    </tr>\n",
              "    <tr>\n",
              "      <th>222025</th>\n",
              "      <td>Zoe Zimmerman</td>\n",
              "      <td>2</td>\n",
              "    </tr>\n",
              "  </tbody>\n",
              "</table>\n",
              "<p>222026 rows × 2 columns</p>\n",
              "</div>"
            ],
            "text/plain": [
              "                 name  no. of products\n",
              "0        Aaron Abbott                2\n",
              "1       Aaron Acevedo                2\n",
              "2        Aaron Acosta                8\n",
              "3         Aaron Adams               12\n",
              "4       Aaron Aguilar                2\n",
              "...               ...              ...\n",
              "222021   Zoe Williams                2\n",
              "222022     Zoe Wilson                2\n",
              "222023     Zoe Wright                2\n",
              "222024      Zoe Young                2\n",
              "222025  Zoe Zimmerman                2\n",
              "\n",
              "[222026 rows x 2 columns]"
            ]
          },
          "metadata": {
            "tags": []
          },
          "execution_count": 23
        }
      ]
    }
  ]
}